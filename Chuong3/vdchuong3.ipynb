{
 "cells": [
  {
   "cell_type": "code",
   "execution_count": 1,
   "metadata": {},
   "outputs": [
    {
     "name": "stdout",
     "output_type": "stream",
     "text": [
      "Danh sách các giao diện mạng:\n",
      " - \\Device\\NPF_{D2C193FF-46B4-49E9-866A-E9820E2D6C77}\n",
      " - \\Device\\NPF_{9BAC3247-B0A6-4A0F-BF68-7078E5C02805}\n",
      " - \\Device\\NPF_{65601515-7444-4F43-B53D-00A20FC9C2E6}\n",
      " - \\Device\\NPF_{FAD5B3C1-6EE8-4C28-80A3-71021559A645}\n",
      " - \\Device\\NPF_{9199C2B1-F975-4ABF-9999-D6D1745B7CF1}\n",
      " - \\Device\\NPF_{DFAD6AFD-EACF-4369-B62C-3D60F8427224}\n",
      " - \\Device\\NPF_Loopback\n",
      " - \\Device\\NPF_{BB91D638-AB23-4A4E-B730-D32116536C50}\n"
     ]
    }
   ],
   "source": [
    "from scapy.all import get_if_list\n",
    "\n",
    "interfaces = get_if_list()\n",
    "print('Danh sách các giao diện mạng:')\n",
    "for iface in interfaces:\n",
    "    print(f' - {iface}')"
   ]
  },
  {
   "cell_type": "code",
   "execution_count": 2,
   "metadata": {},
   "outputs": [
    {
     "name": "stdout",
     "output_type": "stream",
     "text": [
      "\\Device\\NPF_{D2C193FF-46B4-49E9-866A-E9820E2D6C77}: 0.0.0.0\n",
      "\\Device\\NPF_{9BAC3247-B0A6-4A0F-BF68-7078E5C02805}: 0.0.0.0\n",
      "\\Device\\NPF_{65601515-7444-4F43-B53D-00A20FC9C2E6}: 0.0.0.0\n",
      "\\Device\\NPF_{FAD5B3C1-6EE8-4C28-80A3-71021559A645}: 192.168.1.4\n",
      "\\Device\\NPF_{9199C2B1-F975-4ABF-9999-D6D1745B7CF1}: 169.254.234.132\n",
      "\\Device\\NPF_{DFAD6AFD-EACF-4369-B62C-3D60F8427224}: 169.254.197.0\n",
      "\\Device\\NPF_Loopback: 127.0.0.1\n",
      "\\Device\\NPF_{BB91D638-AB23-4A4E-B730-D32116536C50}: 169.254.56.238\n"
     ]
    }
   ],
   "source": [
    "\n",
    "from scapy.all import get_if_list, get_if_addr\n",
    "interfaces = get_if_list()\n",
    "for iface in interfaces:\n",
    "    try:\n",
    "        print(f\"{iface}: {get_if_addr(iface)}\")\n",
    "    except:\n",
    "        print(f\"{iface}: Không có địa chỉ IP\")"
   ]
  },
  {
   "cell_type": "code",
   "execution_count": null,
   "metadata": {},
   "outputs": [],
   "source": [
    "from scapy.all import get_if_list, get_if_hwaddr\n",
    "iface = r\" \\Device\\NPF_{D2C193FF-46B4-49E9-866A-E9820E2D6C77}\" \n",
    "mac_address = get_if_hwaddr(iface)\n",
    "print(f\"Địa chỉ MAC của giao diện {iface}: {mac_address}\")"
   ]
  },
  {
   "cell_type": "code",
   "execution_count": 7,
   "metadata": {},
   "outputs": [
    {
     "name": "stdout",
     "output_type": "stream",
     "text": [
      "Ether / IP / TCP 192.168.1.4:64284 > 23.77.4.56:http S\n",
      "Ether / IP / TCP 23.77.4.56:http > 192.168.1.4:64284 SA\n",
      "Ether / IP / TCP 192.168.1.4:64284 > 23.77.4.56:http A\n",
      "Ether / IP / TCP 192.168.1.4:64284 > 23.77.4.56:http PA / Raw\n",
      "Ether / IP / TCP 23.77.4.56:http > 192.168.1.4:64284 A\n"
     ]
    },
    {
     "data": {
      "text/plain": [
       "<Sniffed: TCP:5 UDP:0 ICMP:0 Other:0>"
      ]
     },
     "execution_count": 7,
     "metadata": {},
     "output_type": "execute_result"
    }
   ],
   "source": [
    "from scapy.all import sniff\n",
    "\n",
    "sniff(filter=\"tcp port 80\", count=5, prn=lambda x: x.summary())"
   ]
  },
  {
   "cell_type": "code",
   "execution_count": 9,
   "metadata": {},
   "outputs": [
    {
     "name": "stdout",
     "output_type": "stream",
     "text": [
      "Thông tin về header IP:\n",
      "Version: 4\n",
      "Header Length: 24 bytes\n",
      "Total Length: 32 bytes\n",
      "TTL (Time to Live): 1\n",
      "Protocol: 2\n",
      "Source IP: 192.168.1.4\n",
      "Destination IP: 224.0.0.252\n"
     ]
    }
   ],
   "source": [
    "\n",
    "from scapy.all import sniff\n",
    "# Bắt 1 gói tin IP\n",
    "packets= sniff (filter=\"ip\", count=1)\n",
    "packet = packets[0]\n",
    "print(\"Thông tin về header IP:\")\n",
    "print (f\"Version: {packet['IP'].version}\") \n",
    "print(f\"Header Length: {packet['IP'].ihl * 4} bytes\") \n",
    "print(f\"Total Length: {packet['IP'].len} bytes\") \n",
    "print(f\"TTL (Time to Live): {packet['IP'].ttl}\") \n",
    "print(f\"Protocol: {packet['IP'].proto}\") \n",
    "print(f\"Source IP: {packet['IP'].src}\") \n",
    "print(f\"Destination IP: {packet['IP'].dst}\")"
   ]
  }
 ],
 "metadata": {
  "kernelspec": {
   "display_name": "Python 3",
   "language": "python",
   "name": "python3"
  },
  "language_info": {
   "codemirror_mode": {
    "name": "ipython",
    "version": 3
   },
   "file_extension": ".py",
   "mimetype": "text/x-python",
   "name": "python",
   "nbconvert_exporter": "python",
   "pygments_lexer": "ipython3",
   "version": "3.11.5"
  }
 },
 "nbformat": 4,
 "nbformat_minor": 2
}
