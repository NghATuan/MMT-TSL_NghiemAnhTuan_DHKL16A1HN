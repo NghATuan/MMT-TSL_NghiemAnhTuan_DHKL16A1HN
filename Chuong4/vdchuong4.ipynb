{
 "cells": [
  {
   "cell_type": "code",
   "execution_count": 6,
   "id": "5915bd5f",
   "metadata": {},
   "outputs": [
    {
     "name": "stdout",
     "output_type": "stream",
     "text": [
      "Băm của chuỗi 1: d4e2614569730c7287b186763fe43ca21d3bc8dcd148453b93eefce08433e8df\n",
      "Băm của chuỗi 2: 0844f3d44370e6e8a2b9042553cb01753423ec4b45d33e29a71ab83d09e435a4\n"
     ]
    }
   ],
   "source": [
    "import hashlib\n",
    "\n",
    "data1 = \"Blockchain là công nghệ nền tảng\"\n",
    "data2 = \"blockchain là công nghệ nền tảng\"\n",
    "\n",
    "# Tính giá trị băm cho từng chuỗi\n",
    "hash1 = hashlib.sha256(data1.encode()).hexdigest()\n",
    "hash2 = hashlib.sha256(data2.encode()).hexdigest()\n",
    "\n",
    "print(\"Băm của chuỗi 1:\",hash1)\n",
    "print(\"Băm của chuỗi 2:\",hash2)"
   ]
  },
  {
   "cell_type": "code",
   "execution_count": 1,
   "id": "19781542",
   "metadata": {},
   "outputs": [
    {
     "name": "stdout",
     "output_type": "stream",
     "text": [
      "Mã băm (hash) của khối: e60f21790925a680f4b3219513eb10015295075aa58fdadfa6e0572eacc87c28\n"
     ]
    }
   ],
   "source": [
    "import hashlib  # Thư viện tích hợp sẵn trong Python\n",
    "                 # để sử dụng các thuật toán băm như SHA-256\n",
    "\n",
    "class Block:\n",
    "    def __init__(self, previous_hash, data):\n",
    "        # Lưu mã băm của khối trước (liên kết chuỗi)\n",
    "        self.previous_hash = previous_hash\n",
    "        # Dữ liệu giao dịch hoặc thông tin cần ghi vào khối\n",
    "        self.data = data\n",
    "        # Tự động tính mã băm khi đối tượng được tạo\n",
    "        self.hash = self.calculate_hash()\n",
    "\n",
    "    def calculate_hash(self):\n",
    "        # Gộp thông tin khối hiện tại và khối trước\n",
    "        block_data = self.previous_hash + self.data\n",
    "        # Tính mã băm SHA-256 (đưa ra là chuỗi 64 ký tự hexa)\n",
    "        return hashlib.sha256(block_data.encode()).hexdigest()\n",
    "\n",
    "# Tạo một khối mới với dữ liệu giả định\n",
    "block = Block(\"0000a7c8...\", \"Transaction Data Example\")\n",
    "\n",
    "# In ra mã băm của khối\n",
    "print(\"Mã băm (hash) của khối:\", block.hash)"
   ]
  },
  {
   "cell_type": "code",
   "execution_count": 1,
   "id": "63678114",
   "metadata": {},
   "outputs": [
    {
     "name": "stdout",
     "output_type": "stream",
     "text": [
      "Mã băm (hash) giao dịch 1: 5c5aeb8b9536fab953afa94c29865d349de9f050e5ac6b227a770863044d9c9e\n",
      "Mã băm (hash) giao dịch 2: ec5159949245af8e64943e981ce1d603a2a73926de963e46ae93dca2c4d5e95d\n",
      "Merkle Root: ef779c7eda7705f197725cae1a98c07b5ecf6d023811c1c5925616f4a92dedd9\n"
     ]
    }
   ],
   "source": [
    "import hashlib \n",
    " \n",
    "def calculate_hash(data): \n",
    "    return hashlib.sha256(data.encode()).hexdigest() \n",
    " \n",
    "# Dữ liệu ban đầu \n",
    "data1 = \"Giao dịch 1\" \n",
    "data2 = \"Giao dịch 2\" \n",
    " \n",
    "# Tính mã băm (hash) \n",
    "hash1 = calculate_hash(data1) \n",
    "hash2 = calculate_hash(data2) \n",
    " \n",
    "# Tạo Merkle Root \n",
    "parent_hash = calculate_hash(hash1 + hash2) \n",
    " \n",
    "print(\"Mã băm (hash) giao dịch 1:\", hash1) \n",
    "print(\"Mã băm (hash) giao dịch 2:\", hash2) \n",
    "print(\"Merkle Root:\", parent_hash) "
   ]
  },
  {
   "cell_type": "markdown",
   "id": "b603f0e9",
   "metadata": {},
   "source": [
    "Biên dịch hợp đồng"
   ]
  },
  {
   "cell_type": "code",
   "execution_count": 3,
   "id": "59545cd0",
   "metadata": {},
   "outputs": [
    {
     "data": {
      "text/plain": [
       "<Version('0.8.20')>"
      ]
     },
     "execution_count": 3,
     "metadata": {},
     "output_type": "execute_result"
    }
   ],
   "source": [
    "import solcx\n",
    "solcx.install_solc('0.8.20')"
   ]
  },
  {
   "cell_type": "code",
   "execution_count": 4,
   "id": "57443c86",
   "metadata": {},
   "outputs": [],
   "source": [
    "# Đặt phiên bản mặc định\n",
    "solcx.set_solc_version('0.8.20')"
   ]
  },
  {
   "cell_type": "code",
   "execution_count": 10,
   "id": "8556bc6c",
   "metadata": {},
   "outputs": [
    {
     "name": "stdout",
     "output_type": "stream",
     "text": [
      "Đã đọc mã nguồn hợp đồng:\n",
      "// SPDX-License-Identifier: MIT\n",
      "pragma solidity ^0.8.0;\n",
      "contract MessageContract {\n",
      "    string public message;\n",
      "    constructor(string memory _message) {\n",
      "        message = _message;\n",
      "    }\n",
      "    function u...\n",
      "Đã biên dịch thành công!\n"
     ]
    }
   ],
   "source": [
    "from solcx import set_solc_version, compile_standard \n",
    " \n",
    "# Đặt đúng phiên bản `solc` đã cài \n",
    "set_solc_version('v0.8.20') \n",
    "PATH = r'G:\\Năm 3 kì 2\\Mang_may_tinh\\Message.sol' \n",
    "# Đọc nội dung của file `Message.sol` và lưu vào biến `contract_source_code` \n",
    "with open(PATH, \"r\", encoding=\"utf-8\") as file: \n",
    "    contract_source_code = file.read() \n",
    "print(\"Đã đọc mã nguồn hợp đồng:\") \n",
    "print(contract_source_code[:200] + \"...\")  # In thử 200 ký tự đầu để kiểm tra \n",
    "# Dùng `compile_standard` thay vì `set_solc_version` để biên dịch hợp đồng \n",
    "compiled_sol = compile_standard({ \n",
    "    \"language\": \"Solidity\", \n",
    "    \"sources\": { \n",
    "        \"Message.sol\": { \n",
    "            \"content\": contract_source_code \n",
    "        } \n",
    "    }, \n",
    "    \"settings\": { \n",
    "        \"outputSelection\": { \n",
    "            \"*\": { \n",
    "                \"*\": [\"abi\", \"evm.bytecode\"] \n",
    "            } \n",
    "        } \n",
    "    } \n",
    "}) \n",
    "print(\"Đã biên dịch thành công!\") "
   ]
  }
 ],
 "metadata": {
  "kernelspec": {
   "display_name": "Python 3",
   "language": "python",
   "name": "python3"
  },
  "language_info": {
   "codemirror_mode": {
    "name": "ipython",
    "version": 3
   },
   "file_extension": ".py",
   "mimetype": "text/x-python",
   "name": "python",
   "nbconvert_exporter": "python",
   "pygments_lexer": "ipython3",
   "version": "3.11.5"
  }
 },
 "nbformat": 4,
 "nbformat_minor": 5
}
