{
 "cells": [
  {
   "cell_type": "code",
   "execution_count": 1,
   "id": "47978ced",
   "metadata": {},
   "outputs": [
    {
     "name": "stdout",
     "output_type": "stream",
     "text": [
      "Block 1:\n",
      "Message: Khối đầu tiên\n",
      "Time: 2025-04-23 07:53:41.024943\n",
      "Prev Hash: \n",
      "Hash: b4bfb86ffa15efb70908110c0436c1da11b6293a4af23972eac80423a0da2108\n",
      "\n",
      "Block 2:\n",
      "Message: Khối thứ hai\n",
      "Time: 2025-04-23 07:53:41.024943\n",
      "Prev Hash: b4bfb86ffa15efb70908110c0436c1da11b6293a4af23972eac80423a0da2108\n",
      "Hash: 9b72077a54a666db1c5df570339fff1b9eee6885d7220c5a8b779e54351c56df\n",
      "\n",
      "Block 3:\n",
      "Message: Khối thứ ba\n",
      "Time: 2025-04-23 07:53:41.024943\n",
      "Prev Hash: 9b72077a54a666db1c5df570339fff1b9eee6885d7220c5a8b779e54351c56df\n",
      "Hash: 51cd27285e6c2c013cf491685919ea608f9f6242818563b22b0ec76796bfe936\n",
      "\n",
      ">> Thay đổi thông điệp trong khối thứ hai:\n",
      "Message: Đã bị sửa đổi\n",
      "Time: 2025-04-23 07:53:41.024943\n",
      "Prev Hash: b4bfb86ffa15efb70908110c0436c1da11b6293a4af23972eac80423a0da2108\n",
      "Hash: 1bdfa03a7066681e99e0937f60209180eda47e84f3f231e934f0f8a4e354b1d9\n",
      "\n"
     ]
    }
   ],
   "source": [
    "import hashlib\n",
    "import datetime\n",
    "\n",
    "class Block:\n",
    "    def __init__(self, message, previous_hash=''):\n",
    "        self.timestamp = str(datetime.datetime.now())\n",
    "        self.message = message\n",
    "        self.previous_hash = previous_hash\n",
    "        self.hash = self.calculate_hash()\n",
    "\n",
    "    def calculate_hash(self):\n",
    "        data = self.timestamp + self.message + self.previous_hash\n",
    "        return hashlib.sha256(data.encode()).hexdigest()\n",
    "\n",
    "    def __str__(self):\n",
    "        return f\"Message: {self.message}\\nTime: {self.timestamp}\\nPrev Hash: {self.previous_hash}\\nHash: {self.hash}\\n\"\n",
    "\n",
    "# Tạo chuỗi Blockchain\n",
    "blockchain = []\n",
    "blockchain.append(Block(\"Khối đầu tiên\"))\n",
    "blockchain.append(Block(\"Khối thứ hai\", blockchain[-1].hash))\n",
    "blockchain.append(Block(\"Khối thứ ba\", blockchain[-1].hash))\n",
    "\n",
    "# In ra thông tin các khối\n",
    "for i, block in enumerate(blockchain):\n",
    "    print(f\"Block {i+1}:\\n{block}\")\n",
    "\n",
    "# Thử thay đổi dữ liệu ở khối thứ 2\n",
    "print(\">> Thay đổi thông điệp trong khối thứ hai:\")\n",
    "blockchain[1].message = \"Đã bị sửa đổi\"\n",
    "blockchain[1].hash = blockchain[1].calculate_hash()\n",
    "print(blockchain[1])\n"
   ]
  },
  {
   "cell_type": "code",
   "execution_count": 2,
   "id": "2a77426f",
   "metadata": {},
   "outputs": [
    {
     "name": "stdout",
     "output_type": "stream",
     "text": [
      "Chuỗi 1: Học phần Mạng máy tính\n",
      "Hash: 65c684ecb5b1be63ed30fed125ee8ac1842cdc1b87f32a0772309f174608b2b2\n",
      "Chuỗi 2: Học phần mạng máy tính\n",
      "Hash: 1e357c2d41854f79edcc70d4ee1c567ab9f14e3cc67eb25feda6b7652d49c42b\n",
      "\n",
      "Nhận xét: Thay đổi chỉ 1 ký tự → mã băm thay đổi hoàn toàn.\n"
     ]
    }
   ],
   "source": [
    "import hashlib\n",
    "\n",
    "def sha256_hash(text):\n",
    "    return hashlib.sha256(text.encode()).hexdigest()\n",
    "\n",
    "message1 = \"Học phần Mạng máy tính\"\n",
    "message2 = \"Học phần mạng máy tính\"  # đổi chữ \"M\" thành \"m\"\n",
    "\n",
    "hash1 = sha256_hash(message1)\n",
    "hash2 = sha256_hash(message2)\n",
    "\n",
    "print(f\"Chuỗi 1: {message1}\\nHash: {hash1}\")\n",
    "print(f\"Chuỗi 2: {message2}\\nHash: {hash2}\")\n",
    "print(\"\\nNhận xét: Thay đổi chỉ 1 ký tự → mã băm thay đổi hoàn toàn.\")\n"
   ]
  },
  {
   "cell_type": "code",
   "execution_count": null,
   "id": "6a9317c3",
   "metadata": {},
   "outputs": [
    {
     "ename": "AssertionError",
     "evalue": "Không kết nối được Ganache!",
     "output_type": "error",
     "traceback": [
      "\u001b[1;31m---------------------------------------------------------------------------\u001b[0m",
      "\u001b[1;31mAssertionError\u001b[0m                            Traceback (most recent call last)",
      "Cell \u001b[1;32mIn[3], line 11\u001b[0m\n\u001b[0;32m      9\u001b[0m \u001b[38;5;66;03m# Kết nối Ganache\u001b[39;00m\n\u001b[0;32m     10\u001b[0m w3 \u001b[38;5;241m=\u001b[39m Web3(Web3\u001b[38;5;241m.\u001b[39mHTTPProvider(\u001b[38;5;124m\"\u001b[39m\u001b[38;5;124mhttp://127.0.0.1:7545\u001b[39m\u001b[38;5;124m\"\u001b[39m))\n\u001b[1;32m---> 11\u001b[0m \u001b[38;5;28;01massert\u001b[39;00m w3\u001b[38;5;241m.\u001b[39mis_connected(), \u001b[38;5;124m\"\u001b[39m\u001b[38;5;124mKhông kết nối được Ganache!\u001b[39m\u001b[38;5;124m\"\u001b[39m\n\u001b[0;32m     13\u001b[0m \u001b[38;5;66;03m# Tài khoản từ Ganache\u001b[39;00m\n\u001b[0;32m     14\u001b[0m account \u001b[38;5;241m=\u001b[39m w3\u001b[38;5;241m.\u001b[39meth\u001b[38;5;241m.\u001b[39maccounts[\u001b[38;5;241m0\u001b[39m]\n",
      "\u001b[1;31mAssertionError\u001b[0m: Không kết nối được Ganache!"
     ]
    }
   ],
   "source": [
    "from web3 import Web3\n",
    "import solcx\n",
    "import json\n",
    "\n",
    "# Kết nối Ganache\n",
    "w3 = Web3(Web3.HTTPProvider(\"http://127.0.0.1:7545\"))\n",
    "assert w3.is_connected(), \"Không kết nối được Ganache!\"\n",
    "\n",
    "# Tài khoản từ Ganache\n",
    "account = w3.eth.accounts[0]\n",
    "\n",
    "# Đọc hợp đồng Solidity\n",
    "with open(\"Message.sol\", \"r\") as file:\n",
    "    source = file.read()\n",
    "\n",
    "# Biên dịch\n",
    "compiled = solcx.compile_source(source)\n",
    "contract_id, contract_interface = compiled.popitem()\n",
    "\n",
    "# Triển khai\n",
    "Message = w3.eth.contract(abi=contract_interface['abi'], bytecode=contract_interface['bin'])\n",
    "tx_hash = Message.constructor().transact({'from': account})\n",
    "tx_receipt = w3.eth.wait_for_transaction_receipt(tx_hash)\n",
    "contract_instance = w3.eth.contract(address=tx_receipt.contractAddress, abi=contract_interface['abi'])\n",
    "\n",
    "# Gửi thông điệp\n",
    "tx = contract_instance.functions.setMessage(\"Xin chào Blockchain!\").transact({'from': account})\n",
    "w3.eth.wait_for_transaction_receipt(tx)\n",
    "\n",
    "# Đọc lại thông điệp\n",
    "message = contract_instance.functions.getMessage().call()\n",
    "print(\"Thông điệp từ Smart Contract:\", message)\n"
   ]
  }
 ],
 "metadata": {
  "kernelspec": {
   "display_name": "Python 3",
   "language": "python",
   "name": "python3"
  },
  "language_info": {
   "codemirror_mode": {
    "name": "ipython",
    "version": 3
   },
   "file_extension": ".py",
   "mimetype": "text/x-python",
   "name": "python",
   "nbconvert_exporter": "python",
   "pygments_lexer": "ipython3",
   "version": "3.11.5"
  }
 },
 "nbformat": 4,
 "nbformat_minor": 5
}
