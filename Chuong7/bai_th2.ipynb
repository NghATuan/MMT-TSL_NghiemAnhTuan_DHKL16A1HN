{
 "cells": [
  {
   "cell_type": "markdown",
   "id": "2ac92361",
   "metadata": {},
   "source": [
    "# Bước 1: Xác thực bằng mật khẩu "
   ]
  },
  {
   "cell_type": "code",
   "execution_count": 5,
   "id": "5ec57698",
   "metadata": {},
   "outputs": [
    {
     "name": "stdout",
     "output_type": "stream",
     "text": [
      "Xác thực thành công!\n"
     ]
    }
   ],
   "source": [
    "import hashlib \n",
    " \n",
    "# Mật khẩu lưu trữ dưới dạng mã băm SHA-256 \n",
    "stored_password = hashlib.sha256(b\"mypassword\").hexdigest() \n",
    " \n",
    "# Yêu cầu người dùng nhập mật khẩu \n",
    "password = input(\"Nhập mật khẩu: \") \n",
    "hashed_password = hashlib.sha256(password.encode()).hexdigest() \n",
    " \n",
    "if hashed_password == stored_password: \n",
    "    print(\"Xác thực thành công!\") \n",
    "else: \n",
    "    print(\"Xác thực thất bại!\") "
   ]
  },
  {
   "cell_type": "markdown",
   "id": "dcd1c184",
   "metadata": {},
   "source": [
    "# Bước 2: Xác thực bằng mã OTP"
   ]
  },
  {
   "cell_type": "code",
   "execution_count": 3,
   "id": "728cd242",
   "metadata": {},
   "outputs": [
    {
     "name": "stdout",
     "output_type": "stream",
     "text": [
      "Mã OTP của bạn là: 679901\n"
     ]
    },
    {
     "name": "stdout",
     "output_type": "stream",
     "text": [
      "Xác thực thành công!\n"
     ]
    }
   ],
   "source": [
    "import pyotp \n",
    "import time \n",
    " \n",
    "# Tạo khóa bí mật và mã OTP \n",
    "secret = pyotp.random_base32() \n",
    "totp = pyotp.TOTP(secret) \n",
    " \n",
    "print(\"Mã OTP của bạn là:\", totp.now()) \n",
    " \n",
    "# Yêu cầu nhập mã OTP \n",
    "otp_input = input(\"Nhập mã OTP: \") \n",
    " \n",
    "if totp.verify(otp_input): \n",
    "    print(\"Xác thực thành công!\") \n",
    "else: \n",
    "    print(\"Xác thực thất bại!\") "
   ]
  },
  {
   "cell_type": "markdown",
   "id": "38798e7f",
   "metadata": {},
   "source": [
    "# Bước 3: Mô phỏng xác thực hai yếu tố (2FA) "
   ]
  },
  {
   "cell_type": "code",
   "execution_count": 2,
   "id": "ca1b68c5",
   "metadata": {},
   "outputs": [
    {
     "name": "stdout",
     "output_type": "stream",
     "text": [
      "Xác thực mật khẩu thành công! Chuyển sang bước xác thực bằng mã OTP.\n",
      "Mã OTP của bạn là: 096430\n",
      "Xác thực hai yếu tố thành công!\n"
     ]
    }
   ],
   "source": [
    "import hashlib \n",
    "import pyotp \n",
    "import time \n",
    " \n",
    "# Bước 1: Xác thực bằng mật khẩu \n",
    "stored_password = hashlib.sha256(b\"mypassword\").hexdigest()  # \n",
    "# Mật khẩu lưu trữ dưới dạng mã băm SHA-256 \n",
    "password = input(\"Nhập mật khẩu: \") \n",
    "hashed_password = hashlib.sha256(password.encode()).hexdigest() \n",
    " \n",
    "if hashed_password == stored_password: \n",
    "    print(\"Xác thực mật khẩu thành công! Chuyển sang bước xác thực bằng mã OTP.\") \n",
    "else: \n",
    "    print(\"Xác thực mật khẩu thất bại!\") \n",
    "    exit()  # Thoát chương trình nếu sai mật khẩu \n",
    " \n",
    "# Bước 2: Xác thực bằng mã OTP nếu mật khẩu đúng \n",
    "# Tạo khóa bí mật và mã OTP \n",
    "secret = pyotp.random_base32() \n",
    "totp = pyotp.TOTP(secret) \n",
    " \n",
    "# In mã OTP (trong thực tế sẽ được gửi qua SMS hoặc Email) \n",
    "print(\"Mã OTP của bạn là:\", totp.now()) \n",
    " \n",
    "# Yêu cầu người dùng nhập mã OTP \n",
    "otp_input = input(\"Nhập mã OTP: \") \n",
    " \n",
    "if totp.verify(otp_input): \n",
    "    print(\"Xác thực hai yếu tố thành công!\") \n",
    "else: \n",
    "    print(\"Xác thực bước 2, mã OTP thất bại!\") "
   ]
  }
 ],
 "metadata": {
  "kernelspec": {
   "display_name": "Python 3",
   "language": "python",
   "name": "python3"
  },
  "language_info": {
   "codemirror_mode": {
    "name": "ipython",
    "version": 3
   },
   "file_extension": ".py",
   "mimetype": "text/x-python",
   "name": "python",
   "nbconvert_exporter": "python",
   "pygments_lexer": "ipython3",
   "version": "3.11.5"
  }
 },
 "nbformat": 4,
 "nbformat_minor": 5
}
