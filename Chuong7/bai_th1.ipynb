{
 "cells": [
  {
   "cell_type": "markdown",
   "id": "50e6f2e5",
   "metadata": {},
   "source": [
    "## Bước 1: Mã hóa và giải mã bằng AES (Mã hóa đối xứng) "
   ]
  },
  {
   "cell_type": "code",
   "execution_count": 1,
   "id": "7c3cd9d9",
   "metadata": {},
   "outputs": [
    {
     "name": "stdout",
     "output_type": "stream",
     "text": [
      "Văn bản mã hóa (AES): b'\\xc0!M8\\xc3\\x9dd\\x9d\\xae|\\xbf\\xffb\\xad\\xe1G\\x1d\\xf3g@\\xb7\\xeb\\x99\\x08\\xae(B\\xac#G\\xbd\\xe6 \\xb7\\\\V\\xc4w\\xb4\\x8bP*nq\\x89pw\\xcc\\x03\\xa1\\x1b!t\\xfdj\\xa9D/\\xf5\\xa3\\xb8\\xa6\\x10\\xd6'\n",
      "Thời gian mã hóa AES: 0.05039858818054199 giây\n",
      "Văn bản giải mã (AES): Hello, this is a test message for AES encryption!\n",
      "Thời gian giải mã AES: 0.0 giây\n"
     ]
    }
   ],
   "source": [
    "from Crypto.Cipher import AES \n",
    "from Crypto.Random import get_random_bytes \n",
    "from Crypto.Util.Padding import pad, unpad \n",
    "import time \n",
    " \n",
    "# Tạo khóa mã hóa 128-bit và khởi tạo AES \n",
    "key = get_random_bytes(16) \n",
    "cipher = AES.new(key, AES.MODE_CBC) \n",
    " \n",
    "plaintext = b\"Hello, this is a test message for AES encryption!\" \n",
    " \n",
    "# Đo thời gian mã hóa AES \n",
    "start_time = time.time() \n",
    "ciphertext = cipher.encrypt(pad(plaintext, AES.block_size)) \n",
    "end_time = time.time() \n",
    "aes_encryption_time = end_time - start_time \n",
    " \n",
    "print(\"Văn bản mã hóa (AES):\", ciphertext) \n",
    "print(\"Thời gian mã hóa AES:\", aes_encryption_time, \"giây\") \n",
    " \n",
    "# Giải mã và đo thời gian giải mã AES\n",
    "start_time = time.time() \n",
    "decipher = AES.new(key, AES.MODE_CBC, cipher.iv) \n",
    "decrypted_text = unpad(decipher.decrypt(ciphertext), AES.block_size) \n",
    "end_time = time.time() \n",
    "aes_decryption_time = end_time - start_time \n",
    " \n",
    "print(\"Văn bản giải mã (AES):\", decrypted_text.decode()) \n",
    "print(\"Thời gian giải mã AES:\", aes_decryption_time, \"giây\") "
   ]
  },
  {
   "cell_type": "markdown",
   "id": "d0fccb89",
   "metadata": {},
   "source": [
    "## Bước 2: Mã hóa và giải mã bằng RSA (Mã hóa bất đối xứng) "
   ]
  },
  {
   "cell_type": "code",
   "execution_count": 2,
   "id": "0a6553cc",
   "metadata": {},
   "outputs": [
    {
     "name": "stdout",
     "output_type": "stream",
     "text": [
      "Khóa AES sau khi mã hóa bằng RSA: b'E\\xc6d\\xd7{\\xa7\\xe7\\x90\\xf6\\xe2\\xfd\\xf5y\\x9dX\\xed\\xbe\\xc9\\x05\\xcaj\\xf5\\xb7&\\xe9\\xc4\\xbe\\x92\\xcb\\x18\\x00\\xca\\x94Iy`\\x9c\\xfe\\x93\\x1a}\\r\\x11#\\xbf\\xf9\\xf5\\x12=)\\xdc\\xd3\\x9b\\xa9S\\x84G\\xec,K6\\xed7\\xc5x\\xb91\\xff\\x9f`{\\xc9\\xd2\\xd2*\\xaeKW,MH@\\xd3\\xfc\\x80\\xf5\\xc0REH\\x16\\xd3 \\xa9\\xcf\\x1d\\x98\\x93\\x8bA\\x8b\\xf20\\xb4\\xe2K-\\x01S\\xeb0\\x1c\\xb2\\xda1\\xdc|\\xe7\\xc4):\\xdd9\\r\\xf6E\\xeb?\\xc9U\\x13b\\xac\\x9c\\x88\\xae\\x0f\\xf4$k\\xd5\"\\x93\\xd4\\xeb\\x1bq\\xc9\\x9d\\x0b\\x04\\xa1\\xd4tfWB\\x9b\\xf3<\\xad\\x19\\x90\\xb4\\xc3\\xe23\\xa0F\\xd5\\xe81\\xcb\\x82&\\x1d;\\xa3TX\\x9dY1(\\xb4\\xfc\\xcf\\x8f$\\x9a\\xcf\\x0c\\x9952v\\xdd\\x8f?\\xb8\\x8aM\\x17M\\xdb2\\x92\\xdc\\x03B\\xa3/\\xb2\\xa85\\x03S>\\x7f>V\\xeba\\xd9T\\xc8\\n\\xa1\\xaeW\\xdcV4\\x9b\\x1b\\x180?\\xb5\\x9e\\xa4X\\x86\\rO\\x0f!\\xe3\\xe1\\xd6\\xdcp\\x94=L\\x0b'\n",
      "Thời gian mã hóa RSA: 0.004089832305908203 giây\n",
      "Khóa AES sau khi giải mã: b'CP\\x9d\\xd6\\xa2[f\\xe6_\\xcc\\x1f\\xc92\\x84\\xaaN'\n",
      "Thời gian giải mã RSA: 0.011692047119140625 giây\n"
     ]
    }
   ],
   "source": [
    "from Crypto.PublicKey import RSA \n",
    "from Crypto.Cipher import PKCS1_OAEP \n",
    " \n",
    "# Tạo cặp khóa RSA \n",
    "key = RSA.generate(2048) \n",
    "private_key = key.export_key() \n",
    "public_key = key.publickey().export_key() \n",
    " \n",
    "# Mã hóa khóa AES bằng khóa công khai RSA và đo thời gian \n",
    "aes_key = get_random_bytes(16) \n",
    "cipher_rsa = PKCS1_OAEP.new(RSA.import_key(public_key)) \n",
    " \n",
    "start_time = time.time()\n",
    "encrypted_aes_key = cipher_rsa.encrypt(aes_key) \n",
    "end_time = time.time() \n",
    "rsa_encryption_time = end_time - start_time \n",
    " \n",
    "print(\"Khóa AES sau khi mã hóa bằng RSA:\", encrypted_aes_key) \n",
    "print(\"Thời gian mã hóa RSA:\", rsa_encryption_time, \"giây\") \n",
    " \n",
    "# Giải mã khóa AES bằng khóa bí mật RSA và đo thời gian \n",
    "decipher_rsa = PKCS1_OAEP.new(RSA.import_key(private_key)) \n",
    " \n",
    "start_time = time.time() \n",
    "decrypted_aes_key = decipher_rsa.decrypt(encrypted_aes_key) \n",
    "end_time = time.time() \n",
    "rsa_decryption_time = end_time - start_time \n",
    " \n",
    "print(\"Khóa AES sau khi giải mã:\", decrypted_aes_key) \n",
    "print(\"Thời gian giải mã RSA:\", rsa_decryption_time, \"giây\")\n"
   ]
  },
  {
   "cell_type": "markdown",
   "id": "41f7a9c0",
   "metadata": {},
   "source": [
    "## Bước 3: So sánh thời gian thực thi giữa AES và RSA \n"
   ]
  },
  {
   "cell_type": "code",
   "execution_count": 3,
   "id": "6397d72d",
   "metadata": {},
   "outputs": [
    {
     "name": "stdout",
     "output_type": "stream",
     "text": [
      "Khóa AES sau khi giải mã: b'CP\\x9d\\xd6\\xa2[f\\xe6_\\xcc\\x1f\\xc92\\x84\\xaaN'\n",
      "Thời gian giải mã RSA: 0.011692047119140625 giây\n"
     ]
    }
   ],
   "source": [
    "from Crypto.PublicKey import RSA \n",
    "from Crypto.Cipher import PKCS1_OAEP \n",
    "# Tạo cặp khóa RSA \n",
    "key = RSA.generate(2048) \n",
    "private_key = key.export_key() \n",
    "public_key = key.publickey().export_key() \n",
    "# Mã hóa khóa AES bằng khóa công khai RSA và đo thời gian \n",
    "aes_key = get_random_bytes(16) \n",
    "cipher_rsa = PKCS1_OAEP.new(RSA.import_key(public_key))\n",
    "start_time = time.time()\n",
    "print(\"Khóa AES sau khi giải mã:\", decrypted_aes_key) \n",
    "print(\"Thời gian giải mã RSA:\", rsa_decryption_time, \"giây\") "
   ]
  }
 ],
 "metadata": {
  "kernelspec": {
   "display_name": "Python 3",
   "language": "python",
   "name": "python3"
  },
  "language_info": {
   "codemirror_mode": {
    "name": "ipython",
    "version": 3
   },
   "file_extension": ".py",
   "mimetype": "text/x-python",
   "name": "python",
   "nbconvert_exporter": "python",
   "pygments_lexer": "ipython3",
   "version": "3.11.5"
  }
 },
 "nbformat": 4,
 "nbformat_minor": 5
}
